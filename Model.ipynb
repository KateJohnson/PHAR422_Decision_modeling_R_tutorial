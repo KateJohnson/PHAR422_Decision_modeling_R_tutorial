{
 "cells": [
  {
   "cell_type": "code",
   "execution_count": null,
   "id": "e7e90a44-e034-45cc-b0ae-92f48bab42a0",
   "metadata": {},
   "outputs": [],
   "source": []
  }
 ],
 "metadata": {
  "kernelspec": {
   "display_name": "R",
   "language": "R",
   "name": "ir"
  },
  "language_info": {
   "codemirror_mode": "r",
   "file_extension": ".r",
   "mimetype": "text/x-r-source",
   "name": "R",
   "pygments_lexer": "r",
   "version": "4.3.3"
  }
 },
 "nbformat": 4,
 "nbformat_minor": 5
}
